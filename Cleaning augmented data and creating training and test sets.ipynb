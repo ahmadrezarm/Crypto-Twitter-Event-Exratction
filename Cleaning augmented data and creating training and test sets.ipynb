{
  "nbformat": 4,
  "nbformat_minor": 0,
  "metadata": {
    "colab": {
      "provenance": [],
      "mount_file_id": "1ux2Z6dzecAd_Y8oEmXWwjcZs0exjFg9f",
      "authorship_tag": "ABX9TyNrNcNGhjYNil318k5Ru2FJ"
    },
    "kernelspec": {
      "name": "python3",
      "display_name": "Python 3"
    },
    "language_info": {
      "name": "python"
    }
  },
  "cells": [
    {
      "cell_type": "markdown",
      "source": [
        "#Steps to take:\n",
        "\n",
        "1. adding all the data into a single dataframe\n",
        "2. removing duplicates\n",
        "3. removing dots (.....) from the augmented data"
      ],
      "metadata": {
        "id": "5nr1aExdZPe4"
      }
    },
    {
      "cell_type": "code",
      "source": [
        "import pandas as pd\n",
        "import numpy as np"
      ],
      "metadata": {
        "id": "3r8ERqmDaP6V"
      },
      "execution_count": null,
      "outputs": []
    },
    {
      "cell_type": "code",
      "source": [
        "bugs_tweets = pd.read_excel('/content/drive/MyDrive/Chapman PhD/CS799/data/bugs_tweets_v2.xlsx')\n",
        "feature_release_tweets = pd.read_excel('/content/drive/MyDrive/Chapman PhD/CS799/data/feature_release_tweets.xlsx')\n",
        "partnership_tweets = pd.read_excel('/content/drive/MyDrive/Chapman PhD/CS799/data/partnership_tweets.xlsx')\n",
        "marketing_tweets = pd.read_excel('/content/drive/MyDrive/Chapman PhD/CS799/data/marketing_tweets.xlsx')\n",
        "other_tweets = pd.read_excel('/content/drive/MyDrive/Chapman PhD/CS799/data/other_tweets.xlsx')"
      ],
      "metadata": {
        "id": "dFBpgaVLaDc5"
      },
      "execution_count": null,
      "outputs": []
    },
    {
      "cell_type": "code",
      "source": [
        "feature_release_tweets"
      ],
      "metadata": {
        "id": "BI-0Zq6Jeshd"
      },
      "execution_count": null,
      "outputs": []
    },
    {
      "cell_type": "code",
      "source": [
        "# cleaning feature release tweets\n",
        "\n",
        "augmented_feature_release = feature_release_tweets.drop(labels = 'tweets', axis = 1)\n",
        "augmented_feature_release.rename(columns={'augmented_tweets': \"tweets\"}, inplace = True)\n",
        "\n",
        "cleaned_feature_realse = pd.concat([feature_release_tweets, augmented_feature_release])\n",
        "cleaned_feature_realse.drop(labels = \"augmented_tweets\", axis = 1, inplace = True)\n",
        "\n",
        "\n",
        "cleaned_feature_realse.drop_duplicates(subset=['tweets'], inplace = True)\n",
        "\n",
        "cleaned_feature_realse.reset_index(inplace = True)\n",
        "cleaned_feature_realse.drop(labels = ['Unnamed: 0', 'index'], axis = 1, inplace = True)\n",
        "\n",
        "cleaned_feature_realse"
      ],
      "metadata": {
        "id": "nH_txRP-ivQK"
      },
      "execution_count": null,
      "outputs": []
    },
    {
      "cell_type": "code",
      "source": [
        "# removing dots:\n",
        "\n",
        "from re import search\n",
        "\n",
        "for ind in cleaned_feature_realse.index:\n",
        "    if search(' . . . . . . . . . . . . . . . . . . . . . . . . . . . . . . . . . . . . . . . . . . . . . . . . . . . . . . . . . . . . . . . . . . . . . . . . . . . . . . . . . . . . . . . . . . . . . . . . . . . . . . . . . . . . . . . . . . . . . . . . . . . . . . . . . . . . . . . . . . . . . . . . . . . . . . . . . . . . . . . . . . . . . . . . . . . . . . . . . . . . . . . . . . . . . . . . . . . . . . . . . . . . . . . . . . . . . . . . . . . . . . . . . . . . . . . . . . . . . . . . . . . . . . . . . . . . . . . . . . . . . . . . . . . . . . . . . . . . . . . . . . . . . . . . . . . . . . . . . . . . . . . . . . . . . . . . . . . . . . . . . . . . . . . . . . . . . . . . . . . . . . . . . . . . . . . . . . . . . . . . . . . . . . . . . . . . . . . . . . . . . . . . . . . . . . . . . . . . . .', cleaned_feature_realse['tweets'][ind]):\n",
        "        print(ind, cleaned_feature_realse['tweets'][ind])\n",
        "\n"
      ],
      "metadata": {
        "id": "l3GMGbr8o3z3"
      },
      "execution_count": null,
      "outputs": []
    },
    {
      "cell_type": "code",
      "source": [
        "cleaned_feature_realse.drop(index = 542, inplace = True)\n",
        "cleaned_feature_realse.reset_index(inplace = True, drop = True)\n",
        "cleaned_feature_realse"
      ],
      "metadata": {
        "colab": {
          "base_uri": "https://localhost:8080/",
          "height": 424
        },
        "id": "IgEtnpzMo-sN",
        "outputId": "97d56e7e-4c14-4256-9553-5077a47095b4"
      },
      "execution_count": null,
      "outputs": [
        {
          "output_type": "execute_result",
          "data": {
            "text/plain": [
              "                                                 tweets       date sentiment  \\\n",
              "0     Deposits and withdrawals of $OGV via ERC20 hav... 2022-07-26  Positive   \n",
              "1     $FXS is now live on Bancor 3! 🥳\\n \\n💧 Single-S... 2022-06-11  Positive   \n",
              "2     \"This [update] is mainly a maintenance release... 2022-08-23  Positive   \n",
              "3     Asset management protocol @DefiEdge has integr... 2022-06-24  Positive   \n",
              "4     It’s time to get testing as Aave V3 has offici... 2022-06-07  Positive   \n",
              "...                                                 ...        ...       ...   \n",
              "1010  Mystique active sur le réseau principal #Ether... 2022-02-01  Positive   \n",
              "1011  New @ElrondNetwork API Portal: BlastAPI by @Bw... 2022-06-21  Positive   \n",
              "1012  1/- At Labs, we want to integrate millions of ... 2022-04-11  Positive   \n",
              "1013  Aave V3 has landed in Zapper.Follow your portf... 2022-03-23  Positive   \n",
              "1014  #Tether USDt launches on Kusama https://t.co/q... 2022-04-13  positive   \n",
              "\n",
              "                lable  \n",
              "0     Feature Release  \n",
              "1     Feature Release  \n",
              "2     Feature Release  \n",
              "3     Feature Release  \n",
              "4     Feature Release  \n",
              "...               ...  \n",
              "1010  Feature Release  \n",
              "1011  Feature Release  \n",
              "1012  Feature Release  \n",
              "1013  Feature Release  \n",
              "1014  Feature Release  \n",
              "\n",
              "[1015 rows x 4 columns]"
            ],
            "text/html": [
              "\n",
              "  <div id=\"df-4e512efa-8f2d-494e-b1f5-c1168f030d99\">\n",
              "    <div class=\"colab-df-container\">\n",
              "      <div>\n",
              "<style scoped>\n",
              "    .dataframe tbody tr th:only-of-type {\n",
              "        vertical-align: middle;\n",
              "    }\n",
              "\n",
              "    .dataframe tbody tr th {\n",
              "        vertical-align: top;\n",
              "    }\n",
              "\n",
              "    .dataframe thead th {\n",
              "        text-align: right;\n",
              "    }\n",
              "</style>\n",
              "<table border=\"1\" class=\"dataframe\">\n",
              "  <thead>\n",
              "    <tr style=\"text-align: right;\">\n",
              "      <th></th>\n",
              "      <th>tweets</th>\n",
              "      <th>date</th>\n",
              "      <th>sentiment</th>\n",
              "      <th>lable</th>\n",
              "    </tr>\n",
              "  </thead>\n",
              "  <tbody>\n",
              "    <tr>\n",
              "      <th>0</th>\n",
              "      <td>Deposits and withdrawals of $OGV via ERC20 hav...</td>\n",
              "      <td>2022-07-26</td>\n",
              "      <td>Positive</td>\n",
              "      <td>Feature Release</td>\n",
              "    </tr>\n",
              "    <tr>\n",
              "      <th>1</th>\n",
              "      <td>$FXS is now live on Bancor 3! 🥳\\n \\n💧 Single-S...</td>\n",
              "      <td>2022-06-11</td>\n",
              "      <td>Positive</td>\n",
              "      <td>Feature Release</td>\n",
              "    </tr>\n",
              "    <tr>\n",
              "      <th>2</th>\n",
              "      <td>\"This [update] is mainly a maintenance release...</td>\n",
              "      <td>2022-08-23</td>\n",
              "      <td>Positive</td>\n",
              "      <td>Feature Release</td>\n",
              "    </tr>\n",
              "    <tr>\n",
              "      <th>3</th>\n",
              "      <td>Asset management protocol @DefiEdge has integr...</td>\n",
              "      <td>2022-06-24</td>\n",
              "      <td>Positive</td>\n",
              "      <td>Feature Release</td>\n",
              "    </tr>\n",
              "    <tr>\n",
              "      <th>4</th>\n",
              "      <td>It’s time to get testing as Aave V3 has offici...</td>\n",
              "      <td>2022-06-07</td>\n",
              "      <td>Positive</td>\n",
              "      <td>Feature Release</td>\n",
              "    </tr>\n",
              "    <tr>\n",
              "      <th>...</th>\n",
              "      <td>...</td>\n",
              "      <td>...</td>\n",
              "      <td>...</td>\n",
              "      <td>...</td>\n",
              "    </tr>\n",
              "    <tr>\n",
              "      <th>1010</th>\n",
              "      <td>Mystique active sur le réseau principal #Ether...</td>\n",
              "      <td>2022-02-01</td>\n",
              "      <td>Positive</td>\n",
              "      <td>Feature Release</td>\n",
              "    </tr>\n",
              "    <tr>\n",
              "      <th>1011</th>\n",
              "      <td>New @ElrondNetwork API Portal: BlastAPI by @Bw...</td>\n",
              "      <td>2022-06-21</td>\n",
              "      <td>Positive</td>\n",
              "      <td>Feature Release</td>\n",
              "    </tr>\n",
              "    <tr>\n",
              "      <th>1012</th>\n",
              "      <td>1/- At Labs, we want to integrate millions of ...</td>\n",
              "      <td>2022-04-11</td>\n",
              "      <td>Positive</td>\n",
              "      <td>Feature Release</td>\n",
              "    </tr>\n",
              "    <tr>\n",
              "      <th>1013</th>\n",
              "      <td>Aave V3 has landed in Zapper.Follow your portf...</td>\n",
              "      <td>2022-03-23</td>\n",
              "      <td>Positive</td>\n",
              "      <td>Feature Release</td>\n",
              "    </tr>\n",
              "    <tr>\n",
              "      <th>1014</th>\n",
              "      <td>#Tether USDt launches on Kusama https://t.co/q...</td>\n",
              "      <td>2022-04-13</td>\n",
              "      <td>positive</td>\n",
              "      <td>Feature Release</td>\n",
              "    </tr>\n",
              "  </tbody>\n",
              "</table>\n",
              "<p>1015 rows × 4 columns</p>\n",
              "</div>\n",
              "      <button class=\"colab-df-convert\" onclick=\"convertToInteractive('df-4e512efa-8f2d-494e-b1f5-c1168f030d99')\"\n",
              "              title=\"Convert this dataframe to an interactive table.\"\n",
              "              style=\"display:none;\">\n",
              "        \n",
              "  <svg xmlns=\"http://www.w3.org/2000/svg\" height=\"24px\"viewBox=\"0 0 24 24\"\n",
              "       width=\"24px\">\n",
              "    <path d=\"M0 0h24v24H0V0z\" fill=\"none\"/>\n",
              "    <path d=\"M18.56 5.44l.94 2.06.94-2.06 2.06-.94-2.06-.94-.94-2.06-.94 2.06-2.06.94zm-11 1L8.5 8.5l.94-2.06 2.06-.94-2.06-.94L8.5 2.5l-.94 2.06-2.06.94zm10 10l.94 2.06.94-2.06 2.06-.94-2.06-.94-.94-2.06-.94 2.06-2.06.94z\"/><path d=\"M17.41 7.96l-1.37-1.37c-.4-.4-.92-.59-1.43-.59-.52 0-1.04.2-1.43.59L10.3 9.45l-7.72 7.72c-.78.78-.78 2.05 0 2.83L4 21.41c.39.39.9.59 1.41.59.51 0 1.02-.2 1.41-.59l7.78-7.78 2.81-2.81c.8-.78.8-2.07 0-2.86zM5.41 20L4 18.59l7.72-7.72 1.47 1.35L5.41 20z\"/>\n",
              "  </svg>\n",
              "      </button>\n",
              "      \n",
              "  <style>\n",
              "    .colab-df-container {\n",
              "      display:flex;\n",
              "      flex-wrap:wrap;\n",
              "      gap: 12px;\n",
              "    }\n",
              "\n",
              "    .colab-df-convert {\n",
              "      background-color: #E8F0FE;\n",
              "      border: none;\n",
              "      border-radius: 50%;\n",
              "      cursor: pointer;\n",
              "      display: none;\n",
              "      fill: #1967D2;\n",
              "      height: 32px;\n",
              "      padding: 0 0 0 0;\n",
              "      width: 32px;\n",
              "    }\n",
              "\n",
              "    .colab-df-convert:hover {\n",
              "      background-color: #E2EBFA;\n",
              "      box-shadow: 0px 1px 2px rgba(60, 64, 67, 0.3), 0px 1px 3px 1px rgba(60, 64, 67, 0.15);\n",
              "      fill: #174EA6;\n",
              "    }\n",
              "\n",
              "    [theme=dark] .colab-df-convert {\n",
              "      background-color: #3B4455;\n",
              "      fill: #D2E3FC;\n",
              "    }\n",
              "\n",
              "    [theme=dark] .colab-df-convert:hover {\n",
              "      background-color: #434B5C;\n",
              "      box-shadow: 0px 1px 3px 1px rgba(0, 0, 0, 0.15);\n",
              "      filter: drop-shadow(0px 1px 2px rgba(0, 0, 0, 0.3));\n",
              "      fill: #FFFFFF;\n",
              "    }\n",
              "  </style>\n",
              "\n",
              "      <script>\n",
              "        const buttonEl =\n",
              "          document.querySelector('#df-4e512efa-8f2d-494e-b1f5-c1168f030d99 button.colab-df-convert');\n",
              "        buttonEl.style.display =\n",
              "          google.colab.kernel.accessAllowed ? 'block' : 'none';\n",
              "\n",
              "        async function convertToInteractive(key) {\n",
              "          const element = document.querySelector('#df-4e512efa-8f2d-494e-b1f5-c1168f030d99');\n",
              "          const dataTable =\n",
              "            await google.colab.kernel.invokeFunction('convertToInteractive',\n",
              "                                                     [key], {});\n",
              "          if (!dataTable) return;\n",
              "\n",
              "          const docLinkHtml = 'Like what you see? Visit the ' +\n",
              "            '<a target=\"_blank\" href=https://colab.research.google.com/notebooks/data_table.ipynb>data table notebook</a>'\n",
              "            + ' to learn more about interactive tables.';\n",
              "          element.innerHTML = '';\n",
              "          dataTable['output_type'] = 'display_data';\n",
              "          await google.colab.output.renderOutput(dataTable, element);\n",
              "          const docLink = document.createElement('div');\n",
              "          docLink.innerHTML = docLinkHtml;\n",
              "          element.appendChild(docLink);\n",
              "        }\n",
              "      </script>\n",
              "    </div>\n",
              "  </div>\n",
              "  "
            ]
          },
          "metadata": {},
          "execution_count": 79
        }
      ]
    },
    {
      "cell_type": "code",
      "source": [
        "cleaned_feature_realse.to_excel(\"cleaned_feature_release.xlsx\")"
      ],
      "metadata": {
        "id": "s84YC9lplpyS"
      },
      "execution_count": null,
      "outputs": []
    },
    {
      "cell_type": "code",
      "source": [
        "# cleaning partnership tweets:\n",
        "\n",
        "augmented1_bugs = bugs_tweets.drop(labels = 'tweets', axis = 1)\n",
        "augmented1_bugs.rename(columns={'augmented_tweets': \"tweets\"}, inplace = True)\n",
        "\n",
        "cleaned_partnership = pd.concat([partnership_tweets, augmented_partnership])\n",
        "cleaned_partnership.drop(labels = \"augmented_tweets\", axis = 1, inplace = True)\n",
        "\n",
        "cleaned_partnership.drop_duplicates(subset=['tweets'], inplace = True)\n",
        "cleaned_partnership.reset_index(inplace = True)\n",
        "cleaned_partnership.drop(labels = ['Unnamed: 0', 'index'], axis = 1, inplace = True)\n",
        "\n",
        "cleaned_partnership"
      ],
      "metadata": {
        "id": "l6_uN403mJiW"
      },
      "execution_count": null,
      "outputs": []
    },
    {
      "cell_type": "code",
      "source": [
        "# removing dots:\n",
        "\n",
        "from re import search\n",
        "\n",
        "for ind in cleaned_partnership.index:\n",
        "    if search(' . . . . . . . . . . . . . . . . . . . . . . . . . . . . . . . . . . . . . . . . . . . . . . . . . . . . . . . . . . . . . . . . . . . . . . . . . . . . . . . . . . . . . . . . . . . . . . . . . . . . . . . . . . . . . . . . . . . . . . . . . . . . . . . . . . . . . . . . . . . . . . . . . . . . . . . . . . . . . . . . . . . . . . . . . . . . . . . . . . . . . . . . . . . . . . . . . . . . . . . . . . . . . . . . . . . . . . . . . . . . . . . . . . . . . . . . . . . . . . . . . . . . . . . . . . . . . . . . . . . . . . . . . . . . . . . . . . . . . . . . . . . . . . . . . . . . . . . . . . . . . . . . . . . . . . . . . . . . . . . . . . . . . . . . . . . . . . . . . . . . . . . . . . . . . . . . . . . . . . . . . . . . . . . . . . . . . . . . . . . . . . . . . . . . . . . . . . . . . .', cleaned_partnership['tweets'][ind]):\n",
        "        print(ind, cleaned_partnership['tweets'][ind])\n",
        "\n"
      ],
      "metadata": {
        "id": "2FUCIUXNnoMU"
      },
      "execution_count": null,
      "outputs": []
    },
    {
      "cell_type": "code",
      "source": [
        "cleaned_partnership.drop(index = 508, inplace = True)"
      ],
      "metadata": {
        "id": "0P--AqDSoUY9"
      },
      "execution_count": null,
      "outputs": []
    },
    {
      "cell_type": "code",
      "source": [
        "cleaned_partnership.reset_index(inplace = True, drop = True)"
      ],
      "metadata": {
        "id": "C087QHX2oX2C"
      },
      "execution_count": null,
      "outputs": []
    },
    {
      "cell_type": "code",
      "source": [
        "cleaned_partnership"
      ],
      "metadata": {
        "id": "9z5YH2TkoctP"
      },
      "execution_count": null,
      "outputs": []
    },
    {
      "cell_type": "code",
      "source": [
        "cleaned_partnership.to_excel('cleaned_partnership.xlsx')"
      ],
      "metadata": {
        "id": "IiKZhQJUnP47"
      },
      "execution_count": null,
      "outputs": []
    },
    {
      "cell_type": "code",
      "source": [
        "# cleaning bugs tweets:\n",
        "\n",
        "bugs_tweets.columns"
      ],
      "metadata": {
        "id": "opR7cWpka6u9"
      },
      "execution_count": null,
      "outputs": []
    },
    {
      "cell_type": "code",
      "source": [
        "\n",
        "# cleaning partnership tweets:\n",
        "\n",
        "augmented_bug1 = bugs_tweets[['date', 'sentiment', 'lable', 'fr_augmented_tweets']]\n",
        "augmented_bug2 = bugs_tweets[['date', 'sentiment', 'lable', 'de_augmented_tweets']]\n",
        "augmented_bug3 = bugs_tweets[['date', 'sentiment', 'lable', 'de_from_fr_augmented_tweets']]\n",
        "augmented_bug4 = bugs_tweets[['date', 'sentiment', 'lable', 'fr_from_de_augmented_tweets']]\n",
        "augmented_bug5 = bugs_tweets[['date', 'sentiment', 'lable', 'it_augmented_tweets']]\n",
        "augmented_bug6 = bugs_tweets[['date', 'sentiment', 'lable', 'es_augmented_tweets']]\n",
        "augmented_bug7 = bugs_tweets[['date', 'sentiment', 'lable', 'ru_augmented_tweets']]\n",
        "augmented_bug8 = bugs_tweets[['date', 'sentiment', 'lable', 'ru_from_de_augmented_tweets']]\n",
        "augmented_bug9 = bugs_tweets[['date', 'sentiment', 'lable', 'es_from_ru_augmented_tweets']]\n",
        "augmented_bug10 = bugs_tweets[['date', 'sentiment', 'lable', 'es_from_fr_augmented_tweets']]\n",
        "augmented_bug11 = bugs_tweets[['date', 'sentiment', 'lable', 'de_from_ru_augmented_tweets']]\n",
        "augmented_bug12 = bugs_tweets[['date', 'sentiment', 'lable', 'fr_from_es_augmented_tweets']]\n",
        "augmented_bug13 = bugs_tweets[['date', 'sentiment', 'lable', 'it_from_es_augmented_tweets']]\n",
        "augmented_bug14 = bugs_tweets[['date', 'sentiment', 'lable', 'it_from_ru_augmented_tweets']]\n",
        "\n",
        "\n",
        "augmented_bug1.rename(columns={'fr_augmented_tweets': \"tweets\"}, inplace = True)\n",
        "augmented_bug2.rename(columns={'de_augmented_tweets': \"tweets\"}, inplace = True)\n",
        "augmented_bug3.rename(columns={'de_from_fr_augmented_tweets': \"tweets\"}, inplace = True)\n",
        "augmented_bug4.rename(columns={'fr_from_de_augmented_tweets': \"tweets\"}, inplace = True)\n",
        "augmented_bug5.rename(columns={'it_augmented_tweets': \"tweets\"}, inplace = True)\n",
        "augmented_bug6.rename(columns={'es_augmented_tweets': \"tweets\"}, inplace = True)\n",
        "augmented_bug7.rename(columns={'ru_augmented_tweets': \"tweets\"}, inplace = True)\n",
        "augmented_bug8.rename(columns={'ru_from_de_augmented_tweets': \"tweets\"}, inplace = True)\n",
        "augmented_bug9.rename(columns={'es_from_ru_augmented_tweets': \"tweets\"}, inplace = True)\n",
        "augmented_bug10.rename(columns={'es_from_fr_augmented_tweets': \"tweets\"}, inplace = True)\n",
        "augmented_bug11.rename(columns={'de_from_ru_augmented_tweets': \"tweets\"}, inplace = True)\n",
        "augmented_bug12.rename(columns={'fr_from_es_augmented_tweets': \"tweets\"}, inplace = True)\n",
        "augmented_bug13.rename(columns={'it_from_es_augmented_tweets': \"tweets\"}, inplace = True)\n",
        "augmented_bug14.rename(columns={'it_from_ru_augmented_tweets': \"tweets\"}, inplace = True)\n",
        "\n",
        "bugs_tweets = bugs_tweets[['date', 'sentiment', 'lable', 'tweets']]\n",
        "\n",
        "\n",
        "cleaned_bugs = pd.concat([bugs_tweets, augmented_bug1, augmented_bug2, augmented_bug3, augmented_bug4, augmented_bug5,\n",
        "                          augmented_bug6, augmented_bug7, augmented_bug8, augmented_bug9, augmented_bug10,\n",
        "                          augmented_bug11, augmented_bug12, augmented_bug13, augmented_bug14])\n",
        "\n",
        "\n",
        "cleaned_bugs.drop_duplicates(subset=['tweets'], inplace = True)\n",
        "cleaned_bugs.reset_index(inplace = True)\n",
        "cleaned_bugs.drop(labels = ['index'], axis = 1, inplace = True)\n",
        "\n",
        "cleaned_bugs"
      ],
      "metadata": {
        "id": "APMmJiXWplt1"
      },
      "execution_count": null,
      "outputs": []
    },
    {
      "cell_type": "code",
      "source": [
        "cleaned_bugs.to_excel('cleaned_bugs.xlsx')"
      ],
      "metadata": {
        "id": "PdssP2rpeenp"
      },
      "execution_count": null,
      "outputs": []
    },
    {
      "cell_type": "code",
      "source": [
        "# removing dots:\n",
        "\n",
        "from re import search\n",
        "\n",
        "for ind in cleaned_bugs.index:\n",
        "    if search(' . . . . . . . . . . . . . . . . . . . . . . . . . . . . . . . . . . . . . . . . . . . . . . . . . . . . . . . . . . . . . . . . . . . . . . . . . . . . . . . . . . . . . . . . . . . . . . . . . . . . . . . . . . . . . . . . . . . . . . . . . . . . . . . . . . . . . . . . . . . . . . . . . . . . . . . . . . . . . . . . . . . . . . . . . . . . . . . . . . . . . . . . . . . . . . . . . . . . . . . . . . . . . . . . . . . . . . . . . . . . . . . . . . . . . . . . . . . . . . . . . . . . . . . . . . . . . . . . . . . . . . . . . . . . . . . . . . . . . . . . . . . . . . . . . . . . . . . . . . . . . . . . . . . . . . . . . . . . . . . . . . . . . . . . . . . . . . . . . . . . . . . . . . . . . . . . . . . . . . . . . . . . . . . . . . . . . . . . . . . . . . . . . . . . . . . . . . . . . .', cleaned_bugs['tweets'][ind]):\n",
        "        print(ind, cleaned_bugs['tweets'][ind])\n"
      ],
      "metadata": {
        "id": "u4wiE8Z7eSjQ"
      },
      "execution_count": null,
      "outputs": []
    },
    {
      "cell_type": "markdown",
      "source": [
        "##Now we need to remove extra Marketing and Other categories tweets:"
      ],
      "metadata": {
        "id": "UhgOmJ6JesRU"
      }
    },
    {
      "cell_type": "code",
      "source": [
        "#cleaning marketing:\n",
        "\n",
        "cleaned_marketing_tweets = marketing_tweets.sample(n=1000)\n",
        "cleaned_marketing_tweets.reset_index(inplace = True, drop= True)\n",
        "cleaned_marketing_tweets.drop(labels = \"Unnamed: 0\", inplace = True, axis = 1)\n",
        "cleaned_marketing_tweets"
      ],
      "metadata": {
        "id": "uWcz3SfZe1Nd"
      },
      "execution_count": null,
      "outputs": []
    },
    {
      "cell_type": "code",
      "source": [
        "cleaned_marketing_tweets.to_excel('cleaned_marketing.xlsx')"
      ],
      "metadata": {
        "id": "8EQfLN_7fZHR"
      },
      "execution_count": null,
      "outputs": []
    },
    {
      "cell_type": "code",
      "source": [
        "#cleaning Other:\n",
        "\n",
        "cleaned_other_tweets = other_tweets.sample(n=1000)\n",
        "cleaned_other_tweets.reset_index(inplace = True, drop= True)\n",
        "cleaned_other_tweets.drop(labels = \"Unnamed: 0\", inplace = True, axis = 1)\n",
        "cleaned_other_tweets"
      ],
      "metadata": {
        "id": "2-dssneMhFro"
      },
      "execution_count": null,
      "outputs": []
    },
    {
      "cell_type": "code",
      "source": [
        "cleaned_other_tweets.to_excel('cleaned_other.xlsx')"
      ],
      "metadata": {
        "id": "GT5YIR76hRUc"
      },
      "execution_count": null,
      "outputs": []
    },
    {
      "cell_type": "markdown",
      "source": [
        "#Now we can have all cleaned tweets in one dataset:"
      ],
      "metadata": {
        "id": "yH3-UUrChdsE"
      }
    },
    {
      "cell_type": "code",
      "source": [
        "cleaned_train_data = pd.concat([cleaned_bugs, cleaned_marketing_tweets, cleaned_partnership, cleaned_other_tweets, cleaned_feature_realse])\n",
        "\n",
        "# shuffle the data:\n",
        "cleaned_train_data = cleaned_train_data.sample(n=4698)\n",
        "\n",
        "cleaned_train_data.reset_index(inplace = True, drop = True)\n",
        "cleaned_train_data = cleaned_train_data[['tweets', 'lable']]\n",
        "cleaned_train_data"
      ],
      "metadata": {
        "id": "BDahA7xuhkcp"
      },
      "execution_count": null,
      "outputs": []
    },
    {
      "cell_type": "code",
      "source": [
        "cleaned_train_data.to_excel('cleaned_training_data.xlsx')"
      ],
      "metadata": {
        "id": "tr5lYu5iiTV3"
      },
      "execution_count": null,
      "outputs": []
    },
    {
      "cell_type": "code",
      "source": [
        "cleaned_train_data.isnull().sum()"
      ],
      "metadata": {
        "id": "0GmRkKU_qGtw"
      },
      "execution_count": null,
      "outputs": []
    },
    {
      "cell_type": "markdown",
      "source": [
        "Cleaning test dataset:"
      ],
      "metadata": {
        "id": "t2HTv7q5pXH9"
      }
    },
    {
      "cell_type": "code",
      "source": [
        "test_dataset = pd.read_excel('/content/drive/MyDrive/Chapman PhD/CS799/data/test_dataset.xlsx')\n",
        "test_dataset"
      ],
      "metadata": {
        "id": "VoAnzgpvpZTB"
      },
      "execution_count": null,
      "outputs": []
    },
    {
      "cell_type": "code",
      "source": [
        "cleaned_test_dataset = test_dataset[['tweets', 'lable']]\n",
        "cleaned_test_dataset"
      ],
      "metadata": {
        "id": "wRUd6kMspe-B"
      },
      "execution_count": null,
      "outputs": []
    },
    {
      "cell_type": "code",
      "source": [
        "cleaned_test_dataset.to_excel('cleaned_test_dataset.xlsx')"
      ],
      "metadata": {
        "id": "Zdfigs5ipqTg"
      },
      "execution_count": null,
      "outputs": []
    }
  ]
}