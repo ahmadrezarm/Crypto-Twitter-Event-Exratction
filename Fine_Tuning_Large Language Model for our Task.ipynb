{
  "cells": [
    {
      "cell_type": "code",
      "execution_count": null,
      "metadata": {
        "colab": {
          "background_save": true
        },
        "id": "7_i_iiiSk7QY"
      },
      "outputs": [],
      "source": [
        "# Transformers installation\n",
        "! pip install transformers\n",
        "! pip install datasets"
      ]
    },
    {
      "cell_type": "code",
      "execution_count": null,
      "metadata": {
        "id": "Ld_M1ipsmEdZ"
      },
      "outputs": [],
      "source": [
        "# loading the labeled data:\n",
        "\n",
        "# import the libraries\n",
        "import numpy as np\n",
        "import pandas as pd\n",
        "import matplotlib.pyplot as plt\n",
        "\n",
        "df = pd.read_excel('/content/drive/MyDrive/Chapman PhD/CS799/data/cleaned/cleaned_training_data.xlsx')\n",
        "df.head(100)"
      ]
    },
    {
      "cell_type": "code",
      "execution_count": null,
      "metadata": {
        "colab": {
          "base_uri": "https://localhost:8080/"
        },
        "id": "ijn5m1GymZPT",
        "outputId": "5f0b4476-6edd-47c0-be7d-421edbecc3dc"
      },
      "outputs": [
        {
          "name": "stdout",
          "output_type": "stream",
          "text": [
            "['Bugs/Defects/Scam' 'Feature Release' 'Marketing' 'Other'\n",
            " 'Partnership/Investment']\n"
          ]
        }
      ],
      "source": [
        "# seperating dependent and independent variables:\n",
        "\n",
        "X = df['tweets']\n",
        "y_lable = df['lable']\n",
        "\n",
        "# just for debugging:\n",
        "y_lable = list(y_lable)\n",
        "unique_lables = np.unique(y_lable)\n",
        "print(unique_lables)"
      ]
    },
    {
      "cell_type": "code",
      "execution_count": null,
      "metadata": {
        "id": "Oipb7B8Smc_J"
      },
      "outputs": [],
      "source": [
        "from sklearn.preprocessing import LabelEncoder\n",
        "le = LabelEncoder()\n",
        "y_lable = list(le.fit_transform(y_lable))"
      ]
    },
    {
      "cell_type": "code",
      "execution_count": null,
      "metadata": {
        "id": "BSKxbocImo1f"
      },
      "outputs": [],
      "source": [
        "# all data need to be as a list. We already have the y as the list.\n",
        "X = list(X)"
      ]
    },
    {
      "cell_type": "code",
      "execution_count": null,
      "metadata": {
        "id": "NxRY79S7nFDp"
      },
      "outputs": [],
      "source": [
        "# importing libraries:\n",
        "\n",
        "from transformers import AutoModelForSequenceClassification\n",
        "#from transformers import TFAutoModelForSequenceClassification\n",
        "from transformers import AutoTokenizer, AutoConfig\n",
        "import numpy as np\n",
        "#from scipy.special import softmax"
      ]
    },
    {
      "cell_type": "code",
      "execution_count": null,
      "metadata": {
        "id": "Hbm9FiPTnYSa"
      },
      "outputs": [],
      "source": [
        "\n",
        "MODEL = \"cardiffnlp/twitter-roberta-base\"\n",
        "model = AutoModelForSequenceClassification.from_pretrained(MODEL, num_labels=5)\n",
        "\n",
        "tokenizer = AutoTokenizer.from_pretrained(MODEL)\n",
        "config = AutoConfig.from_pretrained(MODEL)"
      ]
    },
    {
      "cell_type": "code",
      "execution_count": null,
      "metadata": {
        "id": "GKcMrd2cnmBB"
      },
      "outputs": [],
      "source": [
        "from sklearn.model_selection import train_test_split\n",
        "from sklearn.metrics import accuracy_score, recall_score, precision_score, f1_score\n",
        "import torch\n",
        "from transformers import TrainingArguments, Trainer\n",
        "\n",
        "X_train, X_val, y_train_lable, y_val_lable = train_test_split(X,  y_lable, test_size=0.2, random_state= 42)\n",
        "\n",
        "#X_train, X_val, y_train_lable, y_val_lable = train_test_split(X_train,  y_train_lable, test_size=0.2, random_state= 42)\n",
        "\n",
        "\n",
        "X_train_tokenized = tokenizer(X_train, padding=True, truncation=True, max_length=512)\n",
        "X_val_tokenized = tokenizer(X_val, padding=True, truncation=True, max_length=512)"
      ]
    },
    {
      "cell_type": "code",
      "execution_count": null,
      "metadata": {
        "id": "P74so3p9oAjr"
      },
      "outputs": [],
      "source": [
        "# Create torch dataset\n",
        "class Dataset(torch.utils.data.Dataset):\n",
        "    def __init__(self, encodings, labels=None):\n",
        "        self.encodings = encodings\n",
        "        self.labels = labels\n",
        "\n",
        "    def __getitem__(self, idx):\n",
        "        item = {key: torch.tensor(val[idx]) for key, val in self.encodings.items()}\n",
        "        if self.labels:\n",
        "            item[\"labels\"] = torch.tensor(self.labels[idx])\n",
        "        return item\n",
        "\n",
        "    def __len__(self):\n",
        "        return len(self.encodings[\"input_ids\"])\n",
        "\n",
        "train_dataset = Dataset(X_train_tokenized, y_train_lable)\n",
        "val_dataset = Dataset(X_val_tokenized, y_val_lable)"
      ]
    },
    {
      "cell_type": "code",
      "execution_count": null,
      "metadata": {
        "id": "Xe-1IKFdoKwz"
      },
      "outputs": [],
      "source": [
        "from datasets import load_metric\n",
        "\n",
        "metric = load_metric(\"accuracy\")\n",
        "\n",
        "def compute_metrics(eval_pred):\n",
        "    logits, labels = eval_pred\n",
        "    predictions = np.argmax(logits, axis=-1)\n",
        "    return metric.compute(predictions=predictions, references=labels)"
      ]
    },
    {
      "cell_type": "code",
      "execution_count": null,
      "metadata": {
        "colab": {
          "base_uri": "https://localhost:8080/",
          "height": 614
        },
        "id": "DlM60gVpbL1S",
        "outputId": "73b24079-4749-4d94-edc9-cd45c9d6bd96"
      },
      "outputs": [
        {
          "name": "stdout",
          "output_type": "stream",
          "text": [
            "Login successful\n",
            "Your token has been saved to /root/.huggingface/token\n"
          ]
        }
      ],
      "source": [
        "# for saving the model on Huggingface:\n",
        "\n",
        "! pip install huggingface_hub\n",
        "\n",
        "from huggingface_hub import notebook_login\n",
        "\n",
        "notebook_login()"
      ]
    },
    {
      "cell_type": "code",
      "execution_count": null,
      "metadata": {
        "colab": {
          "base_uri": "https://localhost:8080/",
          "height": 1000
        },
        "id": "6UXqcwqwoLkn",
        "outputId": "99e1bb15-7345-471d-88f0-43f115d147e7"
      },
      "outputs": [
        {
          "name": "stderr",
          "output_type": "stream",
          "text": [
            "PyTorch: setting up devices\n",
            "The default value for the training argument `--report_to` will change in v5 (from all installed integrations to none). In v5, you will need to use `--report_to all` to get the same behavior as now. You should start updating your code and make this info disappear :-).\n",
            "/content/labeling_model_v3 is already a clone of https://huggingface.co/CryptologistOfficial/labeling_model_v3. Make sure you pull the latest changes with `repo.git_pull()`.\n",
            "WARNING:huggingface_hub.repository:/content/labeling_model_v3 is already a clone of https://huggingface.co/CryptologistOfficial/labeling_model_v3. Make sure you pull the latest changes with `repo.git_pull()`.\n",
            "/usr/local/lib/python3.7/dist-packages/transformers/optimization.py:310: FutureWarning: This implementation of AdamW is deprecated and will be removed in a future version. Use the PyTorch implementation torch.optim.AdamW instead, or set `no_deprecation_warning=True` to disable this warning\n",
            "  FutureWarning,\n",
            "***** Running training *****\n",
            "  Num examples = 3758\n",
            "  Num Epochs = 5\n",
            "  Instantaneous batch size per device = 8\n",
            "  Total train batch size (w. parallel, distributed & accumulation) = 8\n",
            "  Gradient Accumulation steps = 1\n",
            "  Total optimization steps = 2350\n",
            "  Number of trainable parameters = 124649477\n"
          ]
        },
        {
          "data": {
            "text/html": [
              "\n",
              "    <div>\n",
              "      \n",
              "      <progress value='2350' max='2350' style='width:300px; height:20px; vertical-align: middle;'></progress>\n",
              "      [2350/2350 33:07, Epoch 5/5]\n",
              "    </div>\n",
              "    <table border=\"1\" class=\"dataframe\">\n",
              "  <thead>\n",
              " <tr style=\"text-align: left;\">\n",
              "      <th>Epoch</th>\n",
              "      <th>Training Loss</th>\n",
              "      <th>Validation Loss</th>\n",
              "      <th>Accuracy</th>\n",
              "    </tr>\n",
              "  </thead>\n",
              "  <tbody>\n",
              "    <tr>\n",
              "      <td>1</td>\n",
              "      <td>No log</td>\n",
              "      <td>0.587616</td>\n",
              "      <td>0.800000</td>\n",
              "    </tr>\n",
              "    <tr>\n",
              "      <td>2</td>\n",
              "      <td>0.741200</td>\n",
              "      <td>0.701672</td>\n",
              "      <td>0.815957</td>\n",
              "    </tr>\n",
              "    <tr>\n",
              "      <td>3</td>\n",
              "      <td>0.416500</td>\n",
              "      <td>0.802164</td>\n",
              "      <td>0.830851</td>\n",
              "    </tr>\n",
              "    <tr>\n",
              "      <td>4</td>\n",
              "      <td>0.254400</td>\n",
              "      <td>0.926726</td>\n",
              "      <td>0.843617</td>\n",
              "    </tr>\n",
              "    <tr>\n",
              "      <td>5</td>\n",
              "      <td>0.140100</td>\n",
              "      <td>0.952214</td>\n",
              "      <td>0.841489</td>\n",
              "    </tr>\n",
              "  </tbody>\n",
              "</table><p>"
            ],
            "text/plain": [
              "<IPython.core.display.HTML object>"
            ]
          },
          "metadata": {},
          "output_type": "display_data"
        },
        {
          "name": "stderr",
          "output_type": "stream",
          "text": [
            "***** Running Evaluation *****\n",
            "  Num examples = 940\n",
            "  Batch size = 8\n",
            "Saving model checkpoint to labeling_model_v3/checkpoint-470\n",
            "Configuration saved in labeling_model_v3/checkpoint-470/config.json\n",
            "Model weights saved in labeling_model_v3/checkpoint-470/pytorch_model.bin\n",
            "***** Running Evaluation *****\n",
            "  Num examples = 940\n",
            "  Batch size = 8\n",
            "Saving model checkpoint to labeling_model_v3/checkpoint-940\n",
            "Configuration saved in labeling_model_v3/checkpoint-940/config.json\n",
            "Model weights saved in labeling_model_v3/checkpoint-940/pytorch_model.bin\n",
            "***** Running Evaluation *****\n",
            "  Num examples = 940\n",
            "  Batch size = 8\n",
            "Saving model checkpoint to labeling_model_v3/checkpoint-1410\n",
            "Configuration saved in labeling_model_v3/checkpoint-1410/config.json\n",
            "Model weights saved in labeling_model_v3/checkpoint-1410/pytorch_model.bin\n",
            "***** Running Evaluation *****\n",
            "  Num examples = 940\n",
            "  Batch size = 8\n",
            "Saving model checkpoint to labeling_model_v3/checkpoint-1880\n",
            "Configuration saved in labeling_model_v3/checkpoint-1880/config.json\n",
            "Model weights saved in labeling_model_v3/checkpoint-1880/pytorch_model.bin\n",
            "***** Running Evaluation *****\n",
            "  Num examples = 940\n",
            "  Batch size = 8\n",
            "Saving model checkpoint to labeling_model_v3/checkpoint-2350\n",
            "Configuration saved in labeling_model_v3/checkpoint-2350/config.json\n",
            "Model weights saved in labeling_model_v3/checkpoint-2350/pytorch_model.bin\n",
            "\n",
            "\n",
            "Training completed. Do not forget to share your model on huggingface.co/models =)\n",
            "\n",
            "\n",
            "Loading best model from labeling_model_v3/checkpoint-470 (score: 0.5876160860061646).\n"
          ]
        },
        {
          "data": {
            "text/plain": [
              "TrainOutput(global_step=2350, training_loss=0.34127233140012053, metrics={'train_runtime': 1988.125, 'train_samples_per_second': 9.451, 'train_steps_per_second': 1.182, 'total_flos': 4943989896898560.0, 'train_loss': 0.34127233140012053, 'epoch': 5.0})"
            ]
          },
          "execution_count": 14,
          "metadata": {},
          "output_type": "execute_result"
        }
      ],
      "source": [
        " #Define Trainer\n",
        "args = TrainingArguments(\n",
        "    output_dir=\"labeling_model_v3\",\n",
        "    push_to_hub=True,\n",
        "    evaluation_strategy=\"epoch\",\n",
        "    save_strategy = \"epoch\",\n",
        "    eval_steps=500,\n",
        "    per_device_train_batch_size=8,\n",
        "    per_device_eval_batch_size=8,\n",
        "    num_train_epochs=5,\n",
        "    seed=0,\n",
        "    load_best_model_at_end=True,\n",
        "\n",
        "    \n",
        ")\n",
        "\n",
        "labeling_trainer = Trainer(\n",
        "    model=model,\n",
        "    args=args,\n",
        "    train_dataset=train_dataset,\n",
        "    eval_dataset=val_dataset,\n",
        "    compute_metrics=compute_metrics,\n",
        "    #callbacks=[EarlyStoppingCallback(early_stopping_patience=3)],\n",
        ")\n",
        "\n",
        "# Train pre-trained model\n",
        "labeling_trainer.train()"
      ]
    },
    {
      "cell_type": "code",
      "execution_count": null,
      "metadata": {
        "id": "kF35WKW7FCdv"
      },
      "outputs": [],
      "source": [
        "labeling_trainer.push_to_hub()\n",
        "\n",
        "tokenizer.push_to_hub(\"labeling_model_v3\") \n"
      ]
    },
    {
      "cell_type": "code",
      "execution_count": null,
      "metadata": {
        "id": "AWiATkRlwQdH"
      },
      "outputs": [],
      "source": [
        "test_data = pd.read_excel('/content/drive/MyDrive/Chapman PhD/CS799/data/cleaned/cleaned_test_dataset.xlsx')\n",
        "test_data"
      ]
    },
    {
      "cell_type": "code",
      "execution_count": null,
      "metadata": {
        "id": "8505hLM5xAzm"
      },
      "outputs": [],
      "source": [
        "X_test = test_data['tweets']\n",
        "y_test = test_data['lable']"
      ]
    },
    {
      "cell_type": "code",
      "execution_count": null,
      "metadata": {
        "colab": {
          "base_uri": "https://localhost:8080/"
        },
        "id": "CC7xMYVtxSd2",
        "outputId": "2a3cd1b2-3fe2-499f-d728-da347b97a893"
      },
      "outputs": [
        {
          "name": "stdout",
          "output_type": "stream",
          "text": [
            "['Bugs/Defects/Scam' 'Feature Release' 'Marketing' 'Other'\n",
            " 'Partnership/Investment']\n"
          ]
        }
      ],
      "source": [
        "# just for debugging:\n",
        "y_test = list(y_test)\n",
        "unique_lables = np.unique(y_test)\n",
        "print(unique_lables)"
      ]
    },
    {
      "cell_type": "code",
      "execution_count": null,
      "metadata": {
        "id": "PRaBpq0IxS1N"
      },
      "outputs": [],
      "source": [
        "le = LabelEncoder()\n",
        "y_test = list(le.fit_transform(y_test))"
      ]
    },
    {
      "cell_type": "code",
      "execution_count": null,
      "metadata": {
        "id": "1s90-ggNxgl-"
      },
      "outputs": [],
      "source": [
        "X_test = list(X_test)"
      ]
    },
    {
      "cell_type": "code",
      "execution_count": null,
      "metadata": {
        "id": "AjqcfW3DxnrZ"
      },
      "outputs": [],
      "source": [
        "X_test_tokenized = tokenizer(X_test, padding=True, truncation=True, max_length=512)"
      ]
    },
    {
      "cell_type": "code",
      "execution_count": null,
      "metadata": {
        "id": "rkHlVhEUxxMd"
      },
      "outputs": [],
      "source": [
        "# loading to Pytorch:\n",
        "\n",
        "test_dataset = Dataset(X_test_tokenized)"
      ]
    },
    {
      "cell_type": "code",
      "execution_count": null,
      "metadata": {
        "colab": {
          "base_uri": "https://localhost:8080/",
          "height": 88
        },
        "id": "gwG3erCayEts",
        "outputId": "8b113967-61b1-4d47-cfca-2be22c6e7283"
      },
      "outputs": [
        {
          "name": "stderr",
          "output_type": "stream",
          "text": [
            "***** Running Prediction *****\n",
            "  Num examples = 2269\n",
            "  Batch size = 8\n"
          ]
        },
        {
          "data": {
            "text/html": [],
            "text/plain": [
              "<IPython.core.display.HTML object>"
            ]
          },
          "metadata": {},
          "output_type": "display_data"
        },
        {
          "name": "stdout",
          "output_type": "stream",
          "text": [
            "[1 4 3 ... 3 2 1]\n"
          ]
        }
      ],
      "source": [
        "predictions = labeling_trainer.predict(test_dataset)\n",
        "preds = np.argmax(predictions.predictions, axis=-1)\n",
        "\n",
        "print(preds)"
      ]
    },
    {
      "cell_type": "code",
      "execution_count": null,
      "metadata": {
        "colab": {
          "base_uri": "https://localhost:8080/",
          "height": 85,
          "referenced_widgets": [
            "ea144facbcfe4fa180b483e2dd7142f5",
            "116c3fa6d32d4f6da1c8a87d546277dc",
            "724d21702a354cb5afb916f2c96d5c1e",
            "e14fb15a19e54ae380310a1af22e2f3e",
            "94fe3ea2e22f47db9d136ffbf7f51396",
            "13c44635159849f6930981e62e385033",
            "d49bc85b6dcb4511864e473e4c90800e",
            "8c0077141364470d9ea5ffdbcf8ce7eb",
            "d8f789e8e44a400abea258eb2ffee6d4",
            "147e201dd4554f10bf6ec2335a937fe1",
            "63fde81c8d824fce8b5b7bf85d74399d"
          ]
        },
        "id": "qjAKRUN8yHv_",
        "outputId": "bb83874c-ceb7-4fd5-863a-972e4b03656d"
      },
      "outputs": [
        {
          "data": {
            "application/vnd.jupyter.widget-view+json": {
              "model_id": "ea144facbcfe4fa180b483e2dd7142f5",
              "version_major": 2,
              "version_minor": 0
            },
            "text/plain": [
              "Downloading builder script:   0%|          | 0.00/2.58k [00:00<?, ?B/s]"
            ]
          },
          "metadata": {},
          "output_type": "display_data"
        },
        {
          "name": "stdout",
          "output_type": "stream",
          "text": [
            "Our fine tuned model test precision is:  0.7653362092924391\n",
            "Our fine tuned model test accuracy is:  0.7183781401498458\n"
          ]
        }
      ],
      "source": [
        "# We can now compare those preds to the test labels for our fine tuned model:\n",
        "\n",
        "from datasets import load_metric\n",
        "import datasets\n",
        "\n",
        "precision_metric = load_metric(\"precision\")\n",
        "accuracy_metric = load_metric(\"accuracy\")\n",
        "precision = precision_metric.compute(predictions=preds, references=y_test,average=\"weighted\")[\"precision\"] \n",
        "accuracy = accuracy_metric.compute(predictions=preds, references=y_test)[\"accuracy\"] \n",
        "print('Our fine tuned model test precision is: ', precision)\n",
        "print('Our fine tuned model test accuracy is: ', accuracy)"
      ]
    },
    {
      "cell_type": "code",
      "execution_count": null,
      "metadata": {
        "colab": {
          "base_uri": "https://localhost:8080/"
        },
        "id": "qPDIciBiyhjh",
        "outputId": "f0d0cf3f-2b70-4b26-f9c3-629b7a1e3990"
      },
      "outputs": [
        {
          "name": "stdout",
          "output_type": "stream",
          "text": [
            "              precision    recall  f1-score   support\n",
            "\n",
            "           0       0.37      0.93      0.53        14\n",
            "           1       0.35      0.77      0.48       131\n",
            "           2       0.72      0.75      0.73       799\n",
            "           3       0.86      0.68      0.76      1209\n",
            "           4       0.61      0.78      0.69       116\n",
            "\n",
            "    accuracy                           0.72      2269\n",
            "   macro avg       0.58      0.78      0.64      2269\n",
            "weighted avg       0.77      0.72      0.73      2269\n",
            "\n"
          ]
        }
      ],
      "source": [
        "from sklearn.metrics import classification_report\n",
        "\n",
        "print(classification_report(y_test, preds))"
      ]
    }
  ],
  "metadata": {
    "accelerator": "GPU",
    "colab": {
      "provenance": [],
      "mount_file_id": "1C9XLL7NvX3f0auzJk_7ovtRISIBvYaj_",
      "authorship_tag": "ABX9TyOTsB1JQsVgELLUv/w2DJna"
    },
    "gpuClass": "standard",
    "kernelspec": {
      "display_name": "Python 3",
      "name": "python3"
    },
    "language_info": {
      "name": "python"
    },
    "widgets": {
      "application/vnd.jupyter.widget-state+json": {
        "116c3fa6d32d4f6da1c8a87d546277dc": {
          "model_module": "@jupyter-widgets/controls",
          "model_module_version": "1.5.0",
          "model_name": "HTMLModel",
          "state": {
            "_dom_classes": [],
            "_model_module": "@jupyter-widgets/controls",
            "_model_module_version": "1.5.0",
            "_model_name": "HTMLModel",
            "_view_count": null,
            "_view_module": "@jupyter-widgets/controls",
            "_view_module_version": "1.5.0",
            "_view_name": "HTMLView",
            "description": "",
            "description_tooltip": null,
            "layout": "IPY_MODEL_13c44635159849f6930981e62e385033",
            "placeholder": "​",
            "style": "IPY_MODEL_d49bc85b6dcb4511864e473e4c90800e",
            "value": "Downloading builder script: "
          }
        },
        "13c44635159849f6930981e62e385033": {
          "model_module": "@jupyter-widgets/base",
          "model_module_version": "1.2.0",
          "model_name": "LayoutModel",
          "state": {
            "_model_module": "@jupyter-widgets/base",
            "_model_module_version": "1.2.0",
            "_model_name": "LayoutModel",
            "_view_count": null,
            "_view_module": "@jupyter-widgets/base",
            "_view_module_version": "1.2.0",
            "_view_name": "LayoutView",
            "align_content": null,
            "align_items": null,
            "align_self": null,
            "border": null,
            "bottom": null,
            "display": null,
            "flex": null,
            "flex_flow": null,
            "grid_area": null,
            "grid_auto_columns": null,
            "grid_auto_flow": null,
            "grid_auto_rows": null,
            "grid_column": null,
            "grid_gap": null,
            "grid_row": null,
            "grid_template_areas": null,
            "grid_template_columns": null,
            "grid_template_rows": null,
            "height": null,
            "justify_content": null,
            "justify_items": null,
            "left": null,
            "margin": null,
            "max_height": null,
            "max_width": null,
            "min_height": null,
            "min_width": null,
            "object_fit": null,
            "object_position": null,
            "order": null,
            "overflow": null,
            "overflow_x": null,
            "overflow_y": null,
            "padding": null,
            "right": null,
            "top": null,
            "visibility": null,
            "width": null
          }
        },
        "147e201dd4554f10bf6ec2335a937fe1": {
          "model_module": "@jupyter-widgets/base",
          "model_module_version": "1.2.0",
          "model_name": "LayoutModel",
          "state": {
            "_model_module": "@jupyter-widgets/base",
            "_model_module_version": "1.2.0",
            "_model_name": "LayoutModel",
            "_view_count": null,
            "_view_module": "@jupyter-widgets/base",
            "_view_module_version": "1.2.0",
            "_view_name": "LayoutView",
            "align_content": null,
            "align_items": null,
            "align_self": null,
            "border": null,
            "bottom": null,
            "display": null,
            "flex": null,
            "flex_flow": null,
            "grid_area": null,
            "grid_auto_columns": null,
            "grid_auto_flow": null,
            "grid_auto_rows": null,
            "grid_column": null,
            "grid_gap": null,
            "grid_row": null,
            "grid_template_areas": null,
            "grid_template_columns": null,
            "grid_template_rows": null,
            "height": null,
            "justify_content": null,
            "justify_items": null,
            "left": null,
            "margin": null,
            "max_height": null,
            "max_width": null,
            "min_height": null,
            "min_width": null,
            "object_fit": null,
            "object_position": null,
            "order": null,
            "overflow": null,
            "overflow_x": null,
            "overflow_y": null,
            "padding": null,
            "right": null,
            "top": null,
            "visibility": null,
            "width": null
          }
        },
        "63fde81c8d824fce8b5b7bf85d74399d": {
          "model_module": "@jupyter-widgets/controls",
          "model_module_version": "1.5.0",
          "model_name": "DescriptionStyleModel",
          "state": {
            "_model_module": "@jupyter-widgets/controls",
            "_model_module_version": "1.5.0",
            "_model_name": "DescriptionStyleModel",
            "_view_count": null,
            "_view_module": "@jupyter-widgets/base",
            "_view_module_version": "1.2.0",
            "_view_name": "StyleView",
            "description_width": ""
          }
        },
        "724d21702a354cb5afb916f2c96d5c1e": {
          "model_module": "@jupyter-widgets/controls",
          "model_module_version": "1.5.0",
          "model_name": "FloatProgressModel",
          "state": {
            "_dom_classes": [],
            "_model_module": "@jupyter-widgets/controls",
            "_model_module_version": "1.5.0",
            "_model_name": "FloatProgressModel",
            "_view_count": null,
            "_view_module": "@jupyter-widgets/controls",
            "_view_module_version": "1.5.0",
            "_view_name": "ProgressView",
            "bar_style": "success",
            "description": "",
            "description_tooltip": null,
            "layout": "IPY_MODEL_8c0077141364470d9ea5ffdbcf8ce7eb",
            "max": 2575,
            "min": 0,
            "orientation": "horizontal",
            "style": "IPY_MODEL_d8f789e8e44a400abea258eb2ffee6d4",
            "value": 2575
          }
        },
        "8c0077141364470d9ea5ffdbcf8ce7eb": {
          "model_module": "@jupyter-widgets/base",
          "model_module_version": "1.2.0",
          "model_name": "LayoutModel",
          "state": {
            "_model_module": "@jupyter-widgets/base",
            "_model_module_version": "1.2.0",
            "_model_name": "LayoutModel",
            "_view_count": null,
            "_view_module": "@jupyter-widgets/base",
            "_view_module_version": "1.2.0",
            "_view_name": "LayoutView",
            "align_content": null,
            "align_items": null,
            "align_self": null,
            "border": null,
            "bottom": null,
            "display": null,
            "flex": null,
            "flex_flow": null,
            "grid_area": null,
            "grid_auto_columns": null,
            "grid_auto_flow": null,
            "grid_auto_rows": null,
            "grid_column": null,
            "grid_gap": null,
            "grid_row": null,
            "grid_template_areas": null,
            "grid_template_columns": null,
            "grid_template_rows": null,
            "height": null,
            "justify_content": null,
            "justify_items": null,
            "left": null,
            "margin": null,
            "max_height": null,
            "max_width": null,
            "min_height": null,
            "min_width": null,
            "object_fit": null,
            "object_position": null,
            "order": null,
            "overflow": null,
            "overflow_x": null,
            "overflow_y": null,
            "padding": null,
            "right": null,
            "top": null,
            "visibility": null,
            "width": null
          }
        },
        "94fe3ea2e22f47db9d136ffbf7f51396": {
          "model_module": "@jupyter-widgets/base",
          "model_module_version": "1.2.0",
          "model_name": "LayoutModel",
          "state": {
            "_model_module": "@jupyter-widgets/base",
            "_model_module_version": "1.2.0",
            "_model_name": "LayoutModel",
            "_view_count": null,
            "_view_module": "@jupyter-widgets/base",
            "_view_module_version": "1.2.0",
            "_view_name": "LayoutView",
            "align_content": null,
            "align_items": null,
            "align_self": null,
            "border": null,
            "bottom": null,
            "display": null,
            "flex": null,
            "flex_flow": null,
            "grid_area": null,
            "grid_auto_columns": null,
            "grid_auto_flow": null,
            "grid_auto_rows": null,
            "grid_column": null,
            "grid_gap": null,
            "grid_row": null,
            "grid_template_areas": null,
            "grid_template_columns": null,
            "grid_template_rows": null,
            "height": null,
            "justify_content": null,
            "justify_items": null,
            "left": null,
            "margin": null,
            "max_height": null,
            "max_width": null,
            "min_height": null,
            "min_width": null,
            "object_fit": null,
            "object_position": null,
            "order": null,
            "overflow": null,
            "overflow_x": null,
            "overflow_y": null,
            "padding": null,
            "right": null,
            "top": null,
            "visibility": null,
            "width": null
          }
        },
        "d49bc85b6dcb4511864e473e4c90800e": {
          "model_module": "@jupyter-widgets/controls",
          "model_module_version": "1.5.0",
          "model_name": "DescriptionStyleModel",
          "state": {
            "_model_module": "@jupyter-widgets/controls",
            "_model_module_version": "1.5.0",
            "_model_name": "DescriptionStyleModel",
            "_view_count": null,
            "_view_module": "@jupyter-widgets/base",
            "_view_module_version": "1.2.0",
            "_view_name": "StyleView",
            "description_width": ""
          }
        },
        "d8f789e8e44a400abea258eb2ffee6d4": {
          "model_module": "@jupyter-widgets/controls",
          "model_module_version": "1.5.0",
          "model_name": "ProgressStyleModel",
          "state": {
            "_model_module": "@jupyter-widgets/controls",
            "_model_module_version": "1.5.0",
            "_model_name": "ProgressStyleModel",
            "_view_count": null,
            "_view_module": "@jupyter-widgets/base",
            "_view_module_version": "1.2.0",
            "_view_name": "StyleView",
            "bar_color": null,
            "description_width": ""
          }
        },
        "e14fb15a19e54ae380310a1af22e2f3e": {
          "model_module": "@jupyter-widgets/controls",
          "model_module_version": "1.5.0",
          "model_name": "HTMLModel",
          "state": {
            "_dom_classes": [],
            "_model_module": "@jupyter-widgets/controls",
            "_model_module_version": "1.5.0",
            "_model_name": "HTMLModel",
            "_view_count": null,
            "_view_module": "@jupyter-widgets/controls",
            "_view_module_version": "1.5.0",
            "_view_name": "HTMLView",
            "description": "",
            "description_tooltip": null,
            "layout": "IPY_MODEL_147e201dd4554f10bf6ec2335a937fe1",
            "placeholder": "​",
            "style": "IPY_MODEL_63fde81c8d824fce8b5b7bf85d74399d",
            "value": " 7.55k/? [00:00&lt;00:00, 237kB/s]"
          }
        },
        "ea144facbcfe4fa180b483e2dd7142f5": {
          "model_module": "@jupyter-widgets/controls",
          "model_module_version": "1.5.0",
          "model_name": "HBoxModel",
          "state": {
            "_dom_classes": [],
            "_model_module": "@jupyter-widgets/controls",
            "_model_module_version": "1.5.0",
            "_model_name": "HBoxModel",
            "_view_count": null,
            "_view_module": "@jupyter-widgets/controls",
            "_view_module_version": "1.5.0",
            "_view_name": "HBoxView",
            "box_style": "",
            "children": [
              "IPY_MODEL_116c3fa6d32d4f6da1c8a87d546277dc",
              "IPY_MODEL_724d21702a354cb5afb916f2c96d5c1e",
              "IPY_MODEL_e14fb15a19e54ae380310a1af22e2f3e"
            ],
            "layout": "IPY_MODEL_94fe3ea2e22f47db9d136ffbf7f51396"
          }
        }
      }
    }
  },
  "nbformat": 4,
  "nbformat_minor": 0
}